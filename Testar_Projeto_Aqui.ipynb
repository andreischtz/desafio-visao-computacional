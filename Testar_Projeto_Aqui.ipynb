{
  "nbformat": 4,
  "nbformat_minor": 0,
  "metadata": {
    "colab": {
      "provenance": [],
      "authorship_tag": "ABX9TyO2SdV6Wm07RVRTe4II8buD",
      "include_colab_link": true
    },
    "kernelspec": {
      "name": "python3",
      "display_name": "Python 3"
    },
    "language_info": {
      "name": "python"
    }
  },
  "cells": [
    {
      "cell_type": "markdown",
      "metadata": {
        "id": "view-in-github",
        "colab_type": "text"
      },
      "source": [
        "<a href=\"https://colab.research.google.com/github/andreischtz/desafio-visao-computacional/blob/main/Testar_Projeto_Aqui.ipynb\" target=\"_parent\"><img src=\"https://colab.research.google.com/assets/colab-badge.svg\" alt=\"Open In Colab\"/></a>"
      ]
    },
    {
      "cell_type": "code",
      "execution_count": 1,
      "metadata": {
        "colab": {
          "base_uri": "https://localhost:8080/"
        },
        "id": "yMhOOteGmIBt",
        "outputId": "b15e6713-25db-45cd-ea42-e16cf86d3598"
      },
      "outputs": [
        {
          "output_type": "stream",
          "name": "stdout",
          "text": [
            "Cloning into 'desafio-visao-computacional'...\n",
            "remote: Enumerating objects: 23, done.\u001b[K\n",
            "remote: Counting objects: 100% (23/23), done.\u001b[K\n",
            "remote: Compressing objects: 100% (22/22), done.\u001b[K\n",
            "remote: Total 23 (delta 0), reused 0 (delta 0), pack-reused 0 (from 0)\u001b[K\n",
            "Receiving objects: 100% (23/23), 4.26 MiB | 12.18 MiB/s, done.\n"
          ]
        }
      ],
      "source": [
        "!git clone https://github.com/andreischtz/desafio-visao-computacional.git"
      ]
    },
    {
      "cell_type": "code",
      "source": [
        "cd /content/desafio-visao-computacional/Desafio_Visão_Computacional"
      ],
      "metadata": {
        "colab": {
          "base_uri": "https://localhost:8080/"
        },
        "id": "kQcqQwMUmM5R",
        "outputId": "188fc113-5ccb-4d7b-fe19-74bf018d1681"
      },
      "execution_count": 2,
      "outputs": [
        {
          "output_type": "stream",
          "name": "stdout",
          "text": [
            "/content/desafio-visao-computacional/Desafio_Visão_Computacional\n"
          ]
        }
      ]
    },
    {
      "cell_type": "code",
      "source": [
        "!pip install -r requirements.txt"
      ],
      "metadata": {
        "colab": {
          "base_uri": "https://localhost:8080/"
        },
        "id": "X_yqh7hjmRxA",
        "outputId": "d4d51456-cd92-4207-cabd-ffab4913297b"
      },
      "execution_count": 3,
      "outputs": [
        {
          "output_type": "stream",
          "name": "stdout",
          "text": [
            "Requirement already satisfied: opencv-python in /usr/local/lib/python3.12/dist-packages (from -r requirements.txt (line 1)) (4.12.0.88)\n",
            "Requirement already satisfied: numpy in /usr/local/lib/python3.12/dist-packages (from -r requirements.txt (line 2)) (2.0.2)\n"
          ]
        }
      ]
    },
    {
      "cell_type": "code",
      "source": [
        "!python segment.py --input samples/planta.jpg --method hsv --target green"
      ],
      "metadata": {
        "colab": {
          "base_uri": "https://localhost:8080/"
        },
        "id": "_VidkNWzmXGO",
        "outputId": "5fef6552-714c-4602-a79b-3b2b20a7be6f"
      },
      "execution_count": 4,
      "outputs": [
        {
          "output_type": "stream",
          "name": "stdout",
          "text": [
            "[INFO] Método: HSV\n",
            "[INFO] Cor alvo: green\n",
            "[INFO] Pixels segmentados: 39.54%\n",
            "[INFO] Resultados salvos em: /content/desafio-visao-computacional/Desafio_Visão_Computacional/outputs\n",
            "[INFO] Tempo total: 0.15s\n"
          ]
        }
      ]
    },
    {
      "cell_type": "code",
      "source": [
        "!python segment.py --input samples/placa.png --method hsv --target blue --hmin 90 --hmax 130 --smin 100"
      ],
      "metadata": {
        "colab": {
          "base_uri": "https://localhost:8080/"
        },
        "id": "q1SpDNKJmZH0",
        "outputId": "66dfd7d5-a45a-475a-b1f9-752d254033e2"
      },
      "execution_count": 5,
      "outputs": [
        {
          "output_type": "stream",
          "name": "stdout",
          "text": [
            "[INFO] Método: HSV\n",
            "[INFO] Cor alvo: blue\n",
            "[INFO] Pixels segmentados: 14.94%\n",
            "[INFO] Resultados salvos em: /content/desafio-visao-computacional/Desafio_Visão_Computacional/outputs\n",
            "[INFO] Tempo total: 0.06s\n"
          ]
        }
      ]
    }
  ]
}